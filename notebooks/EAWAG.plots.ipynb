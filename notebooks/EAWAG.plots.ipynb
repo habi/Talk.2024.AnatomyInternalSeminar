{
 "cells": [
  {
   "cell_type": "markdown",
   "metadata": {},
   "source": [
    "This notebook is a *heavily* adapted version of https://github.com/habi/EAWAG/blob/main/DataWrangling.ipynb, specifically for the talk at the Institute seminar in 2024."
   ]
  },
  {
   "cell_type": "code",
   "execution_count": null,
   "metadata": {},
   "outputs": [],
   "source": [
    "# Load the python modules we need\n",
    "import platform\n",
    "import os\n",
    "import glob\n",
    "import pandas\n",
    "import imageio\n",
    "import numpy\n",
    "import matplotlib.pyplot as plt\n",
    "from matplotlib_scalebar.scalebar import ScaleBar\n",
    "import seaborn\n",
    "import dask\n",
    "import dask_image.imread\n",
    "from dask.distributed import Client, LocalCluster\n",
    "import skimage\n",
    "from tqdm import notebook"
   ]
  },
  {
   "cell_type": "code",
   "execution_count": null,
   "metadata": {},
   "outputs": [],
   "source": [
    "# Load our own log file parsing code\n",
    "from BrukerSkyScanLogfileRuminator.parsing_functions import *"
   ]
  },
  {
   "cell_type": "code",
   "execution_count": null,
   "metadata": {},
   "outputs": [],
   "source": [
    "# Set dask temporary folder\n",
    "# Do this before creating a client: https://stackoverflow.com/a/62804525/323100\n",
    "import tempfile\n",
    "if 'Linux' in platform.system():\n",
    "    # Check if me mounted the FastSSD, otherwise go to standard tmp file\n",
    "    if os.path.exists(os.path.join(os.sep, 'media', 'habi', 'Fast_SSD')):\n",
    "        tmp = os.path.join(os.sep, 'media', 'habi', 'Fast_SSD', 'tmp')\n",
    "    else:\n",
    "        tmp = tempfile.gettempdir()\n",
    "elif 'Darwin' in platform.system():\n",
    "    tmp = tempfile.gettempdir()\n",
    "else:\n",
    "    if 'anaklin' in platform.node():\n",
    "        tmp = os.path.join('F:\\\\tmp')\n",
    "    else:\n",
    "        tmp = os.path.join('D:\\\\tmp')\n",
    "dask.config.set({'temporary_directory': tmp})\n",
    "print('Dask temporary files go to %s' % dask.config.get('temporary_directory'))"
   ]
  },
  {
   "cell_type": "code",
   "execution_count": null,
   "metadata": {},
   "outputs": [],
   "source": [
    "from dask.distributed import Client\n",
    "client = Client()"
   ]
  },
  {
   "cell_type": "code",
   "execution_count": null,
   "metadata": {},
   "outputs": [],
   "source": [
    "client"
   ]
  },
  {
   "cell_type": "code",
   "execution_count": null,
   "metadata": {},
   "outputs": [],
   "source": [
    "print('You can see what DASK is doing at \"http://localhost:%s/status\"' % client.scheduler_info()['services']['dashboard'])"
   ]
  },
  {
   "cell_type": "code",
   "execution_count": null,
   "metadata": {},
   "outputs": [],
   "source": [
    "# Set up figure defaults for the talk\n",
    "plt.rcParams['figure.dpi'] = 200\n",
    "plt.rcParams['savefig.dpi'] = 200\n",
    "plt.rcParams['savefig.transparent'] = True\n",
    "# Set seaborn theme\n",
    "seaborn.set_theme(\n",
    "    context='talk',\n",
    "    style='whitegrid',\n",
    ")\n",
    "plt.rc('image', cmap='gray', interpolation='nearest')  # Display all images in b&w and with 'nearest' interpolation"
   ]
  },
  {
   "cell_type": "code",
   "execution_count": null,
   "metadata": {},
   "outputs": [],
   "source": [
    "Root = os.path.join(os.sep, 'media', 'habi', 'Fast_SSD', 'EAWAG')\n",
    "print('We are loading all the data from %s' % Root)"
   ]
  },
  {
   "cell_type": "code",
   "execution_count": null,
   "metadata": {},
   "outputs": [],
   "source": [
    "# Make directory for output\n",
    "# For these notebooks, we simply dump the images one directory up into the relevant 'media' folder\n",
    "OutPutDir = os.path.join('..', 'media', 'EAWAG')\n",
    "print('We are saving all the output to %s' % OutPutDir)\n",
    "os.makedirs(OutPutDir, exist_ok=True)"
   ]
  },
  {
   "cell_type": "code",
   "execution_count": null,
   "metadata": {},
   "outputs": [],
   "source": [
    "# Make us a dataframe for saving all that we need\n",
    "Data = pandas.DataFrame()"
   ]
  },
  {
   "cell_type": "code",
   "execution_count": null,
   "metadata": {},
   "outputs": [],
   "source": [
    "# Get *all* log files, unsorted but fast\n",
    "Data['LogFile'] = [os.path.join(root, name)\n",
    "                   for root, dirs, files in os.walk(Root)\n",
    "                   for name in files\n",
    "                   if name.endswith((\".log\"))]"
   ]
  },
  {
   "cell_type": "code",
   "execution_count": null,
   "metadata": {},
   "outputs": [],
   "source": [
    "# Get all folders\n",
    "Data['Folder'] = [os.path.dirname(f) for f in Data['LogFile']]"
   ]
  },
  {
   "cell_type": "code",
   "execution_count": null,
   "metadata": {},
   "outputs": [],
   "source": [
    "# Get rid of all non-rec logfiles\n",
    "for c, row in Data.iterrows():\n",
    "    if 'rec' not in row.Folder:\n",
    "        Data.drop([c], inplace=True)\n",
    "    elif 'rectmp.log' in row.LogFile:\n",
    "        Data.drop([c], inplace=True)\n",
    "# Reset dataframe index\n",
    "Data = Data.reset_index(drop=True)"
   ]
  },
  {
   "cell_type": "code",
   "execution_count": null,
   "metadata": {},
   "outputs": [],
   "source": [
    "# Generate us some meaningful colums\n",
    "Data['Fish'] = [l[len(Root) + 1:].split(os.sep)[0] for l in Data['LogFile']]\n",
    "Data['Scan'] = ['.'.join(l[len(Root) + 1:].split(os.sep)[1:-1]) for l in Data['LogFile']]"
   ]
  },
  {
   "cell_type": "code",
   "execution_count": null,
   "metadata": {},
   "outputs": [],
   "source": [
    "# Get parameters related to scan from logfiles\n",
    "Data['Voxelsize'] = [pixelsize(log) for log in Data['LogFile']]\n",
    "Data['Voltage'] = [voltage(log) for log in Data['LogFile']]\n",
    "Data['Current'] = [current(log) for log in Data['LogFile']]\n",
    "Data['Filter'] = [whichfilter(log) for log in Data['LogFile']]\n",
    "Data['Exposuretime'] = [exposuretime(log) for log in Data['LogFile']]\n",
    "Data['Scanner'] = [scanner(log) for log in Data['LogFile']]\n",
    "Data['Averaging'] = [averaging(log) for log in Data['LogFile']]\n",
    "Data['Scan date'] = [scandate(log) for log in Data['LogFile']]\n",
    "Data['ProjectionSize'] = [projection_size(log) for log in Data['LogFile']]\n",
    "Data['RotationStep'] = [rotationstep(log) for log in Data['LogFile']]\n",
    "Data['ThreeSixty'] = [threesixtyscan(log) for log in Data['LogFile']]"
   ]
  },
  {
   "cell_type": "code",
   "execution_count": null,
   "metadata": {},
   "outputs": [],
   "source": [
    "Data['Voxelsize'].unique()"
   ]
  },
  {
   "cell_type": "code",
   "execution_count": null,
   "metadata": {},
   "outputs": [],
   "source": [
    "# Get parameters related to reconstruction from logfiles\n",
    "Data['ReconstructionSize'] = [reconstruction_size(log) for log in Data['LogFile']]\n",
    "Data['Grayvalue'] = [reconstruction_grayvalue(log) for log in Data['LogFile']]\n",
    "Data['RingartefactCorrection'] = [ringremoval(log) for log in Data['LogFile']]\n",
    "Data['BeamHardeningCorrection'] = [beamhardening(log) for log in Data['LogFile']]\n",
    "Data['ROI'] = [region_of_interest(log) for log in Data['LogFile']]\n",
    "Data['Duration'] = [duration(log) for log in Data['LogFile']]\n",
    "Data['Stacks'] = [stacks(log) for log in Data['LogFile']]"
   ]
  },
  {
   "cell_type": "code",
   "execution_count": null,
   "metadata": {},
   "outputs": [],
   "source": [
    "# The iee research storage folder contains some folders with scans done by Kassandra on a SkyScan1273.\n",
    "# Exclude those, since they are not part of this study, we just looked at them to help her.\n",
    "for c, row in Data.iterrows():\n",
    "    if '1273' in row.Scanner:\n",
    "        # print('Dropping %s from our dataframe' % row.LogFile[len(Root)+1:])\n",
    "        Data.drop([c], inplace=True)\n",
    "# Reset dataframe index\n",
    "Data = Data.reset_index(drop=True)"
   ]
  },
  {
   "cell_type": "code",
   "execution_count": null,
   "metadata": {},
   "outputs": [],
   "source": [
    "# The iee research storage folder contains folders with scans of only teeth, done as a small pilot study.\n",
    "# Exclude those, since they are not part of this study.\n",
    "for c, row in Data.iterrows():\n",
    "    if 'Teeth' in row.Folder:\n",
    "        # print('Dropping %s from our dataframe' % row.LogFile[len(Root)+1:])\n",
    "        Data.drop([c], inplace=True)\n",
    "# Reset dataframe index\n",
    "Data = Data.reset_index(drop=True)"
   ]
  },
  {
   "cell_type": "code",
   "execution_count": null,
   "metadata": {},
   "outputs": [],
   "source": [
    "# Sort dataframe on fishes and scans\n",
    "Data.sort_values(by=['Fish', 'Scan'], inplace=True)\n",
    "# Reset dataframe index\n",
    "Data = Data.reset_index(drop=True)"
   ]
  },
  {
   "cell_type": "code",
   "execution_count": null,
   "metadata": {},
   "outputs": [],
   "source": [
    "# How many fishes did we scan?\n",
    "# We scanned six 'BucketOfFish' so subtract those :)\n",
    "print('We have %s unique names in our corpus of scans' % (len(Data.Fish.unique()) - 6))\n",
    "print('We performed %s scans in total' % len(Data.Scan))"
   ]
  },
  {
   "cell_type": "code",
   "execution_count": null,
   "metadata": {},
   "outputs": [],
   "source": [
    "Data['Total Duration'] = [st * stk for st, stk in zip(Data['Duration'], Data['Stacks'])]"
   ]
  },
  {
   "cell_type": "code",
   "execution_count": null,
   "metadata": {},
   "outputs": [],
   "source": [
    "# Get an overview of the total scanning time\n",
    "# Nice output based on https://stackoverflow.com/a/8907407/323100\n",
    "total_seconds = int(Data['Total Duration'].sum())\n",
    "hours, remainder = divmod(total_seconds, 60 * 60)\n",
    "minutes, seconds = divmod(remainder, 60)\n",
    "print('In total, we scanned for %s hours and %s minutes' % (hours, minutes))\n",
    "for machine in Data['Scanner'].unique():\n",
    "    total_seconds = int(Data[Data['Scanner'] == machine]['Total Duration'].sum())\n",
    "    hours, remainder = divmod(total_seconds, 60 * 60)\n",
    "    minutes, seconds = divmod(remainder, 60)\n",
    "    print('\\t - Of these, we scanned %s hours and %s minutes on the %s,'\n",
    "          ' for %s scans' % (hours,\n",
    "                             minutes,\n",
    "                             machine,\n",
    "                             len(Data[Data['Scanner'] == machine])))"
   ]
  },
  {
   "cell_type": "code",
   "execution_count": null,
   "metadata": {},
   "outputs": [],
   "source": [
    "# We scanned six 'buckets of fish', so subtract those :)\n",
    "print('We scanned %0.f fishes' % (len(Data.Fish.unique()) - 6))"
   ]
  },
  {
   "cell_type": "code",
   "execution_count": null,
   "metadata": {},
   "outputs": [],
   "source": [
    "print('We did a total of %s scans' % len(Data))"
   ]
  },
  {
   "cell_type": "code",
   "execution_count": null,
   "metadata": {},
   "outputs": [],
   "source": [
    "print('We perfomed %s scans with \"head\" in their folder name' % len(Data[Data['Scan'].str.contains('head')]))"
   ]
  },
  {
   "cell_type": "code",
   "execution_count": null,
   "metadata": {},
   "outputs": [],
   "source": [
    "# for c, st in enumerate(['darkgrid',\n",
    "#                         'whitegrid',\n",
    "#                         'dark',\n",
    "#                         'white',\n",
    "#                         'ticks']):\n",
    "#     seaborn.set_style(style=st)    \n",
    "#     seaborn.boxenplot(Data.Voxelsize, color='#E6002E')\n",
    "#     plt.ylim([0,50])\n",
    "#     plt.title(st)   \n",
    "#     plt.show()"
   ]
  },
  {
   "cell_type": "code",
   "execution_count": null,
   "metadata": {},
   "outputs": [],
   "source": [
    "MikkisFile = sorted(glob.glob(os.path.join(Root, '*CTscanFishList.xlsx')))[0]\n",
    "# Read excel file and use the first column as index\n",
    "print('Reading in %s' % MikkisFile)\n",
    "DataMikki = pandas.read_excel(MikkisFile)"
   ]
  },
  {
   "cell_type": "code",
   "execution_count": null,
   "metadata": {},
   "outputs": [],
   "source": [
    "for i in DataMikki:\n",
    "    print(i)"
   ]
  },
  {
   "cell_type": "code",
   "execution_count": null,
   "metadata": {},
   "outputs": [],
   "source": [
    "DataMikki['Length(cm)'].unique()"
   ]
  },
  {
   "cell_type": "code",
   "execution_count": null,
   "metadata": {},
   "outputs": [],
   "source": [
    "# Massage some values, so we can plot *all* values nicely\n",
    "DataMikki['Length(cm)'].replace('?', numpy.nan, inplace=True)\n",
    "DataMikki['Length(cm)'].replace('measure SL', numpy.nan, inplace=True)\n",
    "DataMikki['Length(cm)'].replace('< 6', 5.5, inplace=True)\n",
    "DataMikki['Length(cm)'].replace('< 7', 6.5, inplace=True)\n",
    "DataMikki['Length(cm)'].replace('LE < 7', 6.5, inplace=True)"
   ]
  },
  {
   "cell_type": "code",
   "execution_count": null,
   "metadata": {},
   "outputs": [],
   "source": [
    "sorted(DataMikki['Length(cm)'].unique())"
   ]
  },
  {
   "cell_type": "markdown",
   "metadata": {},
   "source": [
    "Plot the length of all the fish, so we can 'visualize' them for the audience.\n",
    "In one of the last seminars, a discussion sprung up about violin plots, so we deliberately show them here again :)"
   ]
  },
  {
   "cell_type": "code",
   "execution_count": null,
   "metadata": {},
   "outputs": [],
   "source": [
    "# Plot fish lengths\n",
    "seaborn.scatterplot(DataMikki['Length(cm)'])\n",
    "plt.show()"
   ]
  },
  {
   "cell_type": "code",
   "execution_count": null,
   "metadata": {},
   "outputs": [],
   "source": [
    "# Plot fish lengths\n",
    "numpy.random.seed(1796)\n",
    "seaborn.stripplot(DataMikki['Length(cm)'],\n",
    "                  color='#E6002E',\n",
    "                  size=plt.gca().yaxis.label.get_fontsize() * 0.618,\n",
    "                  linewidth=1,\n",
    "                  edgecolor='#cccccc',\n",
    "                  jitter=0.8/2)\n",
    "plt.ylim([0,21])\n",
    "plt.ylabel('Length [cm]')\n",
    "seaborn.despine()\n",
    "plt.tight_layout()\n",
    "plt.savefig(os.path.join(OutPutDir, 'lengths.plot.png'))"
   ]
  },
  {
   "cell_type": "code",
   "execution_count": null,
   "metadata": {},
   "outputs": [],
   "source": [
    "# Plot fish lengths\n",
    "numpy.random.seed(1796)\n",
    "seaborn.stripplot(DataMikki['Length(cm)'],\n",
    "                  color='#E6002E',\n",
    "                  size=plt.gca().yaxis.label.get_fontsize() * 0.618,\n",
    "                  linewidth=1,\n",
    "                  edgecolor='#cccccc',\n",
    "                  jitter=0.8/2)\n",
    "seaborn.violinplot(DataMikki['Length(cm)'],\n",
    "                   color='#E6002E',\n",
    "                   edgecolor='#cccccc',\n",
    "                   width=0.8,\n",
    "                   saturation=1)\n",
    "plt.ylim([0,21])\n",
    "plt.ylabel('Length [cm]')\n",
    "seaborn.despine()\n",
    "plt.tight_layout()\n",
    "plt.savefig(os.path.join(OutPutDir, 'lengths.violinplot.png'))"
   ]
  },
  {
   "cell_type": "code",
   "execution_count": null,
   "metadata": {},
   "outputs": [],
   "source": [
    "# Plot fish lengths\n",
    "numpy.random.seed(1796)\n",
    "seaborn.stripplot(DataMikki['Length(cm)'],\n",
    "                  color='#E6002E',\n",
    "                  size=plt.gca().yaxis.label.get_fontsize() * 0.618,\n",
    "                  linewidth=1,\n",
    "                  edgecolor='#cccccc',\n",
    "                  jitter=0.8/2)\n",
    "seaborn.boxplot(DataMikki['Length(cm)'],\n",
    "                color='#E6002E',\n",
    "                linecolor='#cccccc',\n",
    "                saturation=1)\n",
    "plt.ylim([0, 21])\n",
    "plt.ylabel('Length [cm]')\n",
    "seaborn.despine()\n",
    "plt.tight_layout()\n",
    "plt.savefig(os.path.join(OutPutDir, 'lengths.boxplot.png'))"
   ]
  },
  {
   "cell_type": "code",
   "execution_count": null,
   "metadata": {},
   "outputs": [],
   "source": [
    "# Plot fish lengths\n",
    "numpy.random.seed(1796)\n",
    "seaborn.stripplot(DataMikki['Length(cm)'],\n",
    "                  color='#E6002E',\n",
    "                  size=plt.gca().yaxis.label.get_fontsize() * 0.618,\n",
    "                  linewidth=1,\n",
    "                  edgecolor='#cccccc',\n",
    "                  jitter=0.8/2)\n",
    "seaborn.boxenplot(DataMikki['Length(cm)'],\n",
    "                  color='#E6002E',\n",
    "                  edgecolor='#cccccc',\n",
    "                  line_kws=dict(color=\"#cccccc\"),\n",
    "                  saturation=1, showfliers=False)\n",
    "plt.ylim([0, 21])\n",
    "plt.ylabel('Length [cm]')\n",
    "seaborn.despine()\n",
    "plt.tight_layout()\n",
    "plt.savefig(os.path.join(OutPutDir, 'lengths.boxenplot.png'))\n",
    "plt.show()"
   ]
  },
  {
   "cell_type": "code",
   "execution_count": null,
   "metadata": {},
   "outputs": [],
   "source": [
    "# Plot fish lengths\n",
    "seaborn.boxenplot(DataMikki['Length(cm)'],\n",
    "                  color='#E6002E',\n",
    "                  edgecolor='#cccccc',\n",
    "                  line_kws=dict(color=\"#cccccc\"),\n",
    "                  saturation=1)\n",
    "plt.ylim([0, 21])\n",
    "plt.ylabel('Length [cm]')\n",
    "seaborn.despine()\n",
    "plt.tight_layout()\n",
    "plt.savefig(os.path.join(OutPutDir, 'lengths.boxenplot.only.png'))\n",
    "plt.show()"
   ]
  },
  {
   "cell_type": "code",
   "execution_count": null,
   "metadata": {},
   "outputs": [],
   "source": [
    "# Plot scan voxel size\n",
    "seaborn.boxenplot(Data['Voxelsize'],\n",
    "                  color='#E6002E',\n",
    "                  edgecolor='#cccccc',\n",
    "                  line_kws=dict(color=\"#cccccc\"),\n",
    "                  saturation=1)\n",
    "plt.ylabel('Voxelsize [μm]')\n",
    "plt.ylim([0, 51])\n",
    "seaborn.despine()\n",
    "plt.tight_layout()\n",
    "plt.savefig(os.path.join(OutPutDir, 'voxelsizes.png'))\n",
    "plt.show()"
   ]
  },
  {
   "cell_type": "code",
   "execution_count": null,
   "metadata": {},
   "outputs": [],
   "source": [
    "# Let's only talk about one fish\n",
    "fish = '104016'"
   ]
  },
  {
   "cell_type": "code",
   "execution_count": null,
   "metadata": {},
   "outputs": [],
   "source": [
    "# Get rid of all other fish, so we can easily see what we talk about\n",
    "for c, row in Data.iterrows():\n",
    "    if fish not in row.Fish:\n",
    "        Data.drop([c], inplace=True)\n",
    "Data = Data.reset_index(drop=True)"
   ]
  },
  {
   "cell_type": "code",
   "execution_count": null,
   "metadata": {},
   "outputs": [],
   "source": [
    "# Data[Data.isin([fish])]\n",
    "Data"
   ]
  },
  {
   "cell_type": "code",
   "execution_count": null,
   "metadata": {},
   "outputs": [],
   "source": [
    "    # In which jar should it be/go?\n",
    "    foundfishes = 0\n",
    "    for d, row in DataMikki.iterrows():\n",
    "        if (str(fish).lower() in str(row.Fishec).lower()) \\\n",
    "        or (str(fish).lower() in str(row.FieldID).lower()) \\\n",
    "        or (str(fish).lower() in str(row.OtherID).lower()) \\\n",
    "        or (str(fish).lower() in str(row.ReplacementID).lower()):\n",
    "            foundfishes = (row.Fishec, row.FieldID, row.OtherID, row.ReplacementID)\n",
    "            # remove nan from the list of hits\n",
    "            foundfishes = [str(x).lower() for x in foundfishes if not pandas.isnull(x)]\n",
    "            print('*%s*: The fish ' % fish, end='')\n",
    "            if len(foundfishes) > 1:\n",
    "                for found in foundfishes:\n",
    "                    print(found.upper(), end='/')\n",
    "            else:\n",
    "                print(foundfishes[0].upper(), end='')\n",
    "            print(' should now go in jar \"length=%s cm\" (%s))' % (row['Length(cm)'],\n",
    "                                                                  row['TemporaryJar']))\n",
    "    if not foundfishes:\n",
    "        print('*%s*: Nothing found in %s' % (fish, MikkisFile))"
   ]
  },
  {
   "cell_type": "code",
   "execution_count": null,
   "metadata": {},
   "outputs": [],
   "source": [
    "    # Do we have something from this fish on disk?\n",
    "    ondisk = glob.glob(os.path.join(Root, '*%s*' % fish))\n",
    "    if len(ondisk):\n",
    "        for found in ondisk:\n",
    "            print('*%s*: Found on disk in %s' % (fish, found))\n",
    "            foundondisk = 1\n",
    "    else:\n",
    "        print('*%s*: Nothing found in %s' % (fish, Root))\n",
    "        foundondisk = 0"
   ]
  },
  {
   "cell_type": "code",
   "execution_count": null,
   "metadata": {},
   "outputs": [],
   "source": [
    "    # Did we scan it already?\n",
    "    found = 0\n",
    "    for c, row in Data.iterrows():\n",
    "        if fish in row.Fish:\n",
    "            print('*%s*: Sample %s/%s was scanned on %s' % (fish, row['Fish'], row['Scan'], row['Scan date']))\n",
    "            found = 1\n",
    "    if not found:\n",
    "        if foundondisk:\n",
    "            print('*%s*: We have a folder (%s) for this sample, but nothing in the dataframe, so it probably is all good' % (fish, ondisk[0]))\n",
    "            print('Check the folder to be shure')\n",
    "        else:\n",
    "            print('*%s*: Nothing about this sample is found in our dataframe' % fish)"
   ]
  },
  {
   "cell_type": "code",
   "execution_count": null,
   "metadata": {},
   "outputs": [],
   "source": []
  }
 ],
 "metadata": {
  "kernelspec": {
   "display_name": "Python 3 (ipykernel)",
   "language": "python",
   "name": "python3"
  },
  "language_info": {
   "codemirror_mode": {
    "name": "ipython",
    "version": 3
   },
   "file_extension": ".py",
   "mimetype": "text/x-python",
   "name": "python",
   "nbconvert_exporter": "python",
   "pygments_lexer": "ipython3",
   "version": "3.12.5"
  }
 },
 "nbformat": 4,
 "nbformat_minor": 4
}
